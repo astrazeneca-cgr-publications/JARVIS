{
 "cells": [
  {
   "cell_type": "code",
   "execution_count": 1,
   "metadata": {},
   "outputs": [
    {
     "ename": "ModuleNotFoundError",
     "evalue": "No module named 'tensorflow'",
     "output_type": "error",
     "traceback": [
      "\u001b[0;31m---------------------------------------------------------------------------\u001b[0m",
      "\u001b[0;31mModuleNotFoundError\u001b[0m                       Traceback (most recent call last)",
      "\u001b[0;32m<ipython-input-1-98cb9d8a581f>\u001b[0m in \u001b[0;36m<module>\u001b[0;34m\u001b[0m\n\u001b[0;32m----> 1\u001b[0;31m \u001b[0;32mimport\u001b[0m \u001b[0mtensorflow\u001b[0m \u001b[0;32mas\u001b[0m \u001b[0mtf\u001b[0m\u001b[0;34m\u001b[0m\u001b[0;34m\u001b[0m\u001b[0m\n\u001b[0m\u001b[1;32m      2\u001b[0m \u001b[0;32mimport\u001b[0m \u001b[0mpandas\u001b[0m \u001b[0;32mas\u001b[0m \u001b[0mpd\u001b[0m\u001b[0;34m\u001b[0m\u001b[0;34m\u001b[0m\u001b[0m\n\u001b[1;32m      3\u001b[0m \u001b[0;32mimport\u001b[0m \u001b[0mnumpy\u001b[0m \u001b[0;32mas\u001b[0m \u001b[0mnp\u001b[0m\u001b[0;34m\u001b[0m\u001b[0;34m\u001b[0m\u001b[0m\n\u001b[1;32m      4\u001b[0m \u001b[0;32mimport\u001b[0m \u001b[0msys\u001b[0m\u001b[0;34m\u001b[0m\u001b[0;34m\u001b[0m\u001b[0m\n\u001b[1;32m      5\u001b[0m \u001b[0;32mimport\u001b[0m \u001b[0mpickle\u001b[0m\u001b[0;34m\u001b[0m\u001b[0;34m\u001b[0m\u001b[0m\n",
      "\u001b[0;31mModuleNotFoundError\u001b[0m: No module named 'tensorflow'"
     ]
    }
   ],
   "source": [
    "import tensorflow as tf\n",
    "import pandas as pd\n",
    "import numpy as np\n",
    "import sys\n",
    "import pickle"
   ]
  },
  {
   "cell_type": "code",
   "execution_count": 3,
   "metadata": {},
   "outputs": [],
   "source": [
    "from tensorflow.keras.models import Model"
   ]
  },
  {
   "cell_type": "code",
   "execution_count": null,
   "metadata": {},
   "outputs": [],
   "source": [
    "!pip install scikit-learn"
   ]
  },
  {
   "cell_type": "code",
   "execution_count": 4,
   "metadata": {},
   "outputs": [],
   "source": [
    "from sklearn.preprocessing import LabelEncoder, OneHotEncoder"
   ]
  },
  {
   "cell_type": "code",
   "execution_count": 5,
   "metadata": {},
   "outputs": [],
   "source": [
    "def onehot_encoded_seq(seq):\n",
    "\n",
    "    # remove any trailing new line characters\n",
    "    seq = seq.rstrip()\n",
    "    seq_array = np.array(list(seq))\n",
    "\n",
    "\n",
    "    label_encoder = LabelEncoder()\n",
    "    integer_encoded_seq = label_encoder.fit_transform(seq_array)\n",
    "    integer_encoded_seq = integer_encoded_seq.reshape(len(integer_encoded_seq), 1)\n",
    "\n",
    "    onehot_encoder = OneHotEncoder(sparse=False, categories='auto')\n",
    "    onehot_seq = onehot_encoder.fit_transform(integer_encoded_seq) #.tolist()\n",
    "    onehot_seq = np.transpose(onehot_seq)\n",
    "\n",
    "\n",
    "    # Fill in rows in onehot encoded array with nts not present in the sequence\n",
    "    nt_onehot_index = {'A': 0, 'T': 3, 'G': 2, 'C': 1}\n",
    "\n",
    "    all_nts = set(nt_onehot_index.keys())\n",
    "    present_nts = set(seq)\n",
    "    absent_nts = list(all_nts - present_nts)\n",
    "\n",
    "    #print('absent_nts:', absent_nts, 'present_nts:', present_nts)\n",
    "\n",
    "    for nt, _ in sorted(nt_onehot_index.items(), key=lambda x: x[1]):\n",
    "        if nt in absent_nts:\n",
    "            #print('nt:', nt, 'nt_onehot_index[nt]:', nt_onehot_index[nt])\n",
    "            onehot_seq = np.insert(onehot_seq, nt_onehot_index[nt], [0], axis=0)\n",
    "\n",
    "\n",
    "    return onehot_seq"
   ]
  },
  {
   "cell_type": "code",
   "execution_count": 6,
   "metadata": {},
   "outputs": [],
   "source": [
    "def convert_onehot_to_raw_seq(onehot_seq):\n",
    "    #print(onehot_seq)\n",
    "    onehot_index_to_nt = {0: 'A', 3: 'T', 2: 'G', 1: 'C'}\n",
    "    raw_seq = ''\n",
    "\n",
    "    cnt = 0\n",
    "    for cur_nt in onehot_seq:\n",
    "            #print(cur_nt)\n",
    "\n",
    "            t = np.where(cur_nt == 1)[0][0]\n",
    "            #print(t)\n",
    "            #print(onehot_index_to_nt[t])\n",
    "            raw_seq += onehot_index_to_nt[t]\n",
    "\n",
    "    return raw_seq"
   ]
  },
  {
   "cell_type": "code",
   "execution_count": 7,
   "metadata": {},
   "outputs": [
    {
     "name": "stdout",
     "output_type": "stream",
     "text": [
      "WARNING:tensorflow:From /opt/scp/services/jupyter/conda-venv-1590962434/lib/python3.7/site-packages/tensorflow_core/python/ops/init_ops.py:97: calling GlorotUniform.__init__ (from tensorflow.python.ops.init_ops) with dtype is deprecated and will be removed in a future version.\n",
      "Instructions for updating:\n",
      "Call initializer instance with the dtype argument instead of passing it to the constructor\n",
      "WARNING:tensorflow:From /opt/scp/services/jupyter/conda-venv-1590962434/lib/python3.7/site-packages/tensorflow_core/python/ops/init_ops.py:97: calling Zeros.__init__ (from tensorflow.python.ops.init_ops) with dtype is deprecated and will be removed in a future version.\n",
      "Instructions for updating:\n",
      "Call initializer instance with the dtype argument instead of passing it to the constructor\n",
      "WARNING:tensorflow:From /opt/scp/services/jupyter/conda-venv-1590962434/lib/python3.7/site-packages/tensorflow_core/python/ops/resource_variable_ops.py:1630: calling BaseResourceVariable.__init__ (from tensorflow.python.ops.resource_variable_ops) with constraint is deprecated and will be removed in a future version.\n",
      "Instructions for updating:\n",
      "If using Keras pass *_constraint arguments to layers.\n",
      "WARNING:tensorflow:OMP_NUM_THREADS is no longer used by the default Keras config. To configure the number of threads, use tf.config.threading APIs.\n",
      "WARNING:tensorflow:From /opt/scp/services/jupyter/conda-venv-1590962434/lib/python3.7/site-packages/tensorflow_core/python/ops/math_grad.py:1424: where (from tensorflow.python.ops.array_ops) is deprecated and will be removed in a future version.\n",
      "Instructions for updating:\n",
      "Use tf.where in 2.0, which has the same broadcast rule as np.where\n"
     ]
    }
   ],
   "source": [
    "model = tf.keras.models.load_model('JARVIS-sequences.model')"
   ]
  },
  {
   "cell_type": "code",
   "execution_count": 8,
   "metadata": {},
   "outputs": [
    {
     "name": "stdout",
     "output_type": "stream",
     "text": [
      "Model: \"model\"\n",
      "_________________________________________________________________\n",
      "Layer (type)                 Output Shape              Param #   \n",
      "=================================================================\n",
      "seq_input (InputLayer)       [(None, 3000, 4)]         0         \n",
      "_________________________________________________________________\n",
      "conv1d (Conv1D)              (None, 1495, 64)          2880      \n",
      "_________________________________________________________________\n",
      "max_pooling1d (MaxPooling1D) (None, 746, 64)           0         \n",
      "_________________________________________________________________\n",
      "dropout (Dropout)            (None, 746, 64)           0         \n",
      "_________________________________________________________________\n",
      "conv1d_1 (Conv1D)            (None, 372, 64)           12352     \n",
      "_________________________________________________________________\n",
      "max_pooling1d_1 (MaxPooling1 (None, 185, 64)           0         \n",
      "_________________________________________________________________\n",
      "dropout_1 (Dropout)          (None, 185, 64)           0         \n",
      "_________________________________________________________________\n",
      "flatten (Flatten)            (None, 11840)             0         \n",
      "_________________________________________________________________\n",
      "dense (Dense)                (None, 64)                757824    \n",
      "_________________________________________________________________\n",
      "dense_1 (Dense)              (None, 128)               8320      \n",
      "_________________________________________________________________\n",
      "dropout_2 (Dropout)          (None, 128)               0         \n",
      "_________________________________________________________________\n",
      "dense_2 (Dense)              (None, 2)                 258       \n",
      "=================================================================\n",
      "Total params: 781,634\n",
      "Trainable params: 781,634\n",
      "Non-trainable params: 0\n",
      "_________________________________________________________________\n"
     ]
    }
   ],
   "source": [
    "model.summary()"
   ]
  },
  {
   "cell_type": "code",
   "execution_count": 9,
   "metadata": {},
   "outputs": [
    {
     "data": {
      "text/plain": [
       "array(['AATGGGAAATAATTTGAATCAGGATGGAACAATTGATAAGAAGAAAGAACAAACCAGCTAACCAAATAAACAGAAAGGTGTTCTTTCCTTGAAACTCTAGAACATAGGCAGGAGCCAGCCACATGGCCTGCCCTATAAACCATAACATTAGGAGAACTACAGCTCTTTTCCAAGGCATTCTGACTAGTGGCATCACAAGAGGCAGTAAGCAGAGGTACCAAAGAAAGTACTGGGAGGTGCAGACTTTGTTAAAAGTCACAAAAATGGACGTATGAAGAAAACAACAAAAAACGAGGTCTCTGTAATAGGCGAAAGACACAGCTGAAAGCAAGATGAGCTGTGGCAGGAATGCAGCAATTCCCAGGGAAAAACTCCACTTGCTCTCTGCAGTCAAATACAGCATGTAGAAGTACGGAGAAAAGTTGTGACGGATATCCCGCCTAGTCAGGTGATAAAAGTAGGTGTGTTCCAAAAATTCCCAGCCGTACTCATAGTAAAAA',\n",
       "       'CCAAAGCTCAGGGCAAAAAACGTGAGTCCAGCAACTGCTACAAACAGCAGCACAGCCCGATTACACAGCCTTTTCAGGAGCTCGTACAAACAAGCCTGGAAAGTGTACCGGAATTGACGGAGGCTTTTGTCATTGTCGCGATCTGGAAGCAGGTGGAGGGTTATGGGAAGGATGTAAGTCACTGGATATATCTTCATATGCACCGCGAAACCATAGAATACAGCTGCACACGCGACGAGTCTTTTCTTTATCAAGTAGAGGACCATCAGGACCAGGGAGGCGACAATAGAGTCCGCATTACCGCGGCTGGATACTGCCATAGGCAGGGGGTTAAGAAGCCAAAAGACACAGTAGCCACAAGCCTGGCGGCGCCCCAGCCCCTTCAGCAGCAGCAGGCGGTATAAGAGGAAAGCGGTGAGGAGGTCGCAGCTGATGAAGAGAAACTTTCCAAAGAGCTCGCTGAGGTAGATGTTGGGAGTGAGGAGCCAACCCAGCAGCGG'],\n",
       "      dtype=object)"
      ]
     },
     "execution_count": 9,
     "metadata": {},
     "output_type": "execute_result"
    }
   ],
   "source": [
    "patho_seq_chunks = pd.read_csv('/projects/cgr/users/kclc950/JARVIS/misc/deepbind/jarvis-input/Training_set.pathogenic_variant_sequences.txt', header=None)[0].values\n",
    "patho_seq_chunks[:2]"
   ]
  },
  {
   "cell_type": "code",
   "execution_count": 10,
   "metadata": {},
   "outputs": [
    {
     "data": {
      "text/plain": [
       "array(['AGGTATTTATTTTTTCAGAGATCAAAAATATTAATACTGTTGAGCTAGGGCCTACCCACCCGCCTGCATACACACATAATGTACTAAGTATAAAGAGGTAAGCTTCACTTCCCTAGTAGAATGGTGGTATAAAATAAAGGCCTCCCAACTCTTTCTTTCCTATTTGCATGGGGGATAAGGGTGGCAGAGGTTGTATACAACCATCTATGGCTTCTGGGAATTCGTACTATGTTGGGACACAGCAAAATATGTGGTCTTATACATAAGGTCTTGGTGATATTCTATGGAAAGTCAATGGGGACTTGAGGATAAATGAGTGTACTGCTAAAATGAGTGCACTGATAAAATTATCAGTTACCAGATTCATGACATGGAGATGTGAGGACAGGGGAAGGAGGTGGCAAAGAAATTTAGAAGGGACCTGATTGTTTGCCAGACTTAGAAGTTTGAATGCCCACAAATCACAAAGATGTCAGAGATCAGATTCAGTGAGAGTAAGG',\n",
       "       'GAGTGGGGAAGTAGAAGGACAGGAGATGATGGTGTGAGAGGGACCTATAGAGAAAGGTTTTGGAAGTGAATGAATATTACATGGTAATAACGCAGCCATGCTAGTAAGCAGCTCAGGCATGGTGACTGCAGAGAACACTGGGACTGGGCAACTGAGAATCCAGTGGAATAAAAGGAATGTAAAAATTATGAAGCTATTTTTTTGAGCAAAATTTATGACTAACAGTAATTACAGTTACTACATGTTGGGAAGCAGATTAAAAGTGGAAAAATTTACACTAACAACAGGTAGAGTTTAGGTTGAATAATTCTTACCTCAATCATACTTAGCTTCCATGACAAATGCTCCTAGTTGCCTACTTGATATTTGTTTCCTCATCCTTCTTTTCTAAGAGAACTGTGATTTGTGTGCAAATGTGTGACAGTATTCCGGTGTTCCCAGTTGTATGTACTCGCAGTGAGGCCTCTCCTAAGAGTTAAGGGTTCTCATCTGATATAGTC'],\n",
       "      dtype=object)"
      ]
     },
     "execution_count": 10,
     "metadata": {},
     "output_type": "execute_result"
    }
   ],
   "source": [
    "benign_seq_chunks = pd.read_csv('/projects/cgr/users/kclc950/JARVIS/misc/deepbind/jarvis-input/Training_set.benign_variant_sequences.txt', header=None)[0].values\n",
    "benign_seq_chunks[:2]"
   ]
  },
  {
   "cell_type": "markdown",
   "metadata": {},
   "source": [
    "## Get 3kb input sequences from 500bp chunks"
   ]
  },
  {
   "cell_type": "code",
   "execution_count": 11,
   "metadata": {},
   "outputs": [],
   "source": [
    "def concat_seq_chunks(seq_list, step=6):\n",
    "    \n",
    "    concat_seqs = []\n",
    "    \n",
    "    for chunk_idx in range(0, len(seq_list), step):\n",
    "        cur_seq = ''.join(seq_list[chunk_idx: chunk_idx+step])\n",
    "        \n",
    "        #print(len(cur_seq))\n",
    "        concat_seqs.append(cur_seq)\n",
    "        \n",
    "    return concat_seqs"
   ]
  },
  {
   "cell_type": "code",
   "execution_count": 12,
   "metadata": {},
   "outputs": [],
   "source": [
    "patho_seqs = np.unique(concat_seq_chunks(patho_seq_chunks))\n",
    "benign_seqs = np.unique(concat_seq_chunks(benign_seq_chunks))"
   ]
  },
  {
   "cell_type": "code",
   "execution_count": 13,
   "metadata": {},
   "outputs": [
    {
     "name": "stdout",
     "output_type": "stream",
     "text": [
      "369\n"
     ]
    },
    {
     "data": {
      "text/plain": [
       "521"
      ]
     },
     "execution_count": 13,
     "metadata": {},
     "output_type": "execute_result"
    }
   ],
   "source": [
    "print(len(patho_seqs))\n",
    "len(benign_seqs)"
   ]
  },
  {
   "cell_type": "code",
   "execution_count": 14,
   "metadata": {},
   "outputs": [
    {
     "name": "stdout",
     "output_type": "stream",
     "text": [
      "(4, 3000)\n",
      "(3000, 4)\n"
     ]
    },
    {
     "data": {
      "text/plain": [
       "(1, 3000, 4)"
      ]
     },
     "execution_count": 14,
     "metadata": {},
     "output_type": "execute_result"
    }
   ],
   "source": [
    "onehot_encoded_seq(patho_seqs[0])\n",
    "print(onehot_encoded_seq(patho_seqs[0]).shape)\n",
    "print(onehot_encoded_seq(patho_seqs[0]).T.shape)\n",
    "\n",
    "l = onehot_encoded_seq(patho_seqs[0]).T\n",
    "\n",
    "\n",
    "np.array([onehot_encoded_seq(patho_seqs[0]).T]).shape"
   ]
  },
  {
   "cell_type": "code",
   "execution_count": 15,
   "metadata": {},
   "outputs": [],
   "source": [
    "custom_model = Model(inputs=model.inputs, outputs=model.layers[1].output)"
   ]
  },
  {
   "cell_type": "code",
   "execution_count": 16,
   "metadata": {},
   "outputs": [],
   "source": [
    "feature_maps = custom_model.predict(np.array([onehot_encoded_seq(patho_seqs[0]).T]))"
   ]
  },
  {
   "cell_type": "code",
   "execution_count": 17,
   "metadata": {},
   "outputs": [
    {
     "data": {
      "text/plain": [
       "(1, 1495, 64)"
      ]
     },
     "execution_count": 17,
     "metadata": {},
     "output_type": "execute_result"
    }
   ],
   "source": [
    "feature_maps.shape"
   ]
  },
  {
   "cell_type": "markdown",
   "metadata": {},
   "source": [
    "## Visualise filters"
   ]
  },
  {
   "cell_type": "code",
   "execution_count": 18,
   "metadata": {},
   "outputs": [],
   "source": [
    "import matplotlib\n",
    "import matplotlib.pyplot as plt"
   ]
  },
  {
   "cell_type": "code",
   "execution_count": 19,
   "metadata": {},
   "outputs": [],
   "source": [
    "filters, biases = model.layers[1].get_weights()\n",
    "\n",
    "\n",
    "# normalize filter values to 0-1 so we can visualize them\n",
    "f_min, f_max = filters.min(), filters.max()\n",
    "filters = (filters - f_min) / (f_max - f_min)"
   ]
  },
  {
   "cell_type": "code",
   "execution_count": 20,
   "metadata": {},
   "outputs": [
    {
     "data": {
      "text/plain": [
       "(11, 4, 64)"
      ]
     },
     "execution_count": 20,
     "metadata": {},
     "output_type": "execute_result"
    }
   ],
   "source": [
    "filters.shape"
   ]
  },
  {
   "cell_type": "code",
   "execution_count": 21,
   "metadata": {},
   "outputs": [
    {
     "data": {
      "image/png": "[encoded data removed]",
      "text/plain": [
       "<Figure size 1440x3600 with 12 Axes>"
      ]
     },
     "metadata": {},
     "output_type": "display_data"
    }
   ],
   "source": [
    "# plot first few filters\n",
    "n_filters, ix = 12, 1\n",
    "\n",
    "plt.figure(figsize=(20, 50))\n",
    "\n",
    "for i in range(n_filters):\n",
    "    # get the filter\n",
    "    f = filters[:, :, i]\n",
    "    \n",
    " \n",
    "    # specify subplot and turn of axis\n",
    "    ax = plt.subplot(n_filters, 4, ix)\n",
    "    ax.set_xticks([])\n",
    "    ax.set_yticks([])\n",
    "\n",
    "    # plot filter channel in grayscale\n",
    "    plt.imshow(f, cmap='gray')\n",
    "    ix += 1\n",
    "\n",
    "# show the figure\n",
    "plt.show()\n"
   ]
  },
  {
   "cell_type": "code",
   "execution_count": 22,
   "metadata": {},
   "outputs": [
    {
     "name": "stdout",
     "output_type": "stream",
     "text": [
      "(11, 4)\n"
     ]
    },
    {
     "data": {
      "text/plain": [
       "array([[0.95699525, 0.39667684, 0.20937668, 0.46394157],\n",
       "       [0.37489513, 0.35597792, 0.61472255, 0.5695325 ],\n",
       "       [0.558927  , 0.4971008 , 0.7398158 , 0.61877453],\n",
       "       [0.2065405 , 0.8034641 , 0.63887745, 0.717717  ],\n",
       "       [0.6057696 , 0.43680868, 0.56748146, 0.44035324],\n",
       "       [0.2871947 , 0.41281784, 0.4314809 , 0.6365124 ],\n",
       "       [0.5602295 , 0.729451  , 0.7826263 , 0.43877706],\n",
       "       [0.81568605, 0.51860416, 0.15800078, 0.59017366],\n",
       "       [0.7614574 , 0.38435197, 0.5608677 , 0.4977076 ],\n",
       "       [0.65732825, 0.57695603, 0.69234633, 0.20738137],\n",
       "       [0.340773  , 0.2158725 , 0.4355731 , 0.6055618 ]], dtype=float32)"
      ]
     },
     "execution_count": 22,
     "metadata": {},
     "output_type": "execute_result"
    }
   ],
   "source": [
    "example_filter = filters[:, :, 3]\n",
    "print(example_filter.shape)\n",
    "example_filter"
   ]
  },
  {
   "cell_type": "code",
   "execution_count": 23,
   "metadata": {},
   "outputs": [
    {
     "data": {
      "text/plain": [
       "'AGACATAAAAT'"
      ]
     },
     "execution_count": 23,
     "metadata": {},
     "output_type": "execute_result"
    }
   ],
   "source": [
    "convert_onehot_to_raw_seq(np.round(filters[:, :, 3]))"
   ]
  },
  {
   "cell_type": "markdown",
   "metadata": {},
   "source": [
    "## Get max. activation"
   ]
  },
  {
   "cell_type": "code",
   "execution_count": 24,
   "metadata": {},
   "outputs": [],
   "source": [
    "L = 11 # filter length\n",
    "offset = int(L/2)\n",
    "strides = 2"
   ]
  },
  {
   "cell_type": "code",
   "execution_count": 26,
   "metadata": {},
   "outputs": [
    {
     "name": "stdout",
     "output_type": "stream",
     "text": [
      "10\n",
      "20\n",
      "30\n",
      "40\n",
      "50\n",
      "60\n",
      "70\n",
      "80\n",
      "90\n",
      "100\n",
      "110\n",
      "120\n",
      "130\n",
      "140\n",
      "150\n",
      "160\n",
      "170\n",
      "180\n",
      "190\n",
      "200\n",
      "210\n",
      "220\n",
      "230\n",
      "240\n",
      "250\n",
      "260\n",
      "270\n",
      "280\n",
      "290\n",
      "300\n",
      "310\n",
      "320\n",
      "330\n",
      "340\n",
      "350\n",
      "360\n"
     ]
    }
   ],
   "source": [
    "filter_act_per_seq = {}\n",
    "\n",
    "seq_cnt = 1\n",
    "for seq in patho_seqs:\n",
    "    #print(seq)\n",
    "    if seq_cnt % 10 == 0:\n",
    "        print(seq_cnt)\n",
    "    seq_cnt += 1\n",
    "    \n",
    "    for i in range(offset, len(seq) - offset, strides):\n",
    "        sub_seq = seq[i-offset: i+offset+1]\n",
    "        \n",
    "        #print(sub_seq)\n",
    "        sub_onehot_seq = onehot_encoded_seq(sub_seq).T\n",
    "        \n",
    "        for f in range(filters.shape[2]):\n",
    "            cur_filter = filters[:, :, f]\n",
    "            \n",
    "            sum_of_prod = np.sum(np.multiply(cur_filter, sub_onehot_seq))\n",
    "            #print(sum_of_prod)\n",
    "            \n",
    "            filter_act_per_seq[sub_seq] = sum_of_prod"
   ]
  },
  {
   "cell_type": "code",
   "execution_count": 30,
   "metadata": {},
   "outputs": [],
   "source": [
    "with open('JARVIS-filter_act_per_seq.pkl', 'wb') as handle:\n",
    "    pickle.dump(filter_act_per_seq, handle, protocol=pickle.HIGHEST_PROTOCOL)"
   ]
  },
  {
   "cell_type": "code",
   "execution_count": 28,
   "metadata": {},
   "outputs": [],
   "source": [
    "with open('JARVIS-filter_act_per_seq.pkl', 'rb') as handle:\n",
    "    filter_act_per_seq = pickle.load(handle)"
   ]
  },
  {
   "cell_type": "code",
   "execution_count": 29,
   "metadata": {},
   "outputs": [
    {
     "name": "stdout",
     "output_type": "stream",
     "text": [
      "2801\n"
     ]
    }
   ],
   "source": [
    "max_act = max(filter_act_per_seq.values())\n",
    "top_percentile = 0.9 #0.9\n",
    "patterns = []\n",
    "\n",
    "pattern_cnt = 0\n",
    "for seq, act in filter_act_per_seq.items():\n",
    "    \n",
    "    if act > top_percentile * max_act:\n",
    "        #print(seq)\n",
    "        #print(act)\n",
    "        patterns.append(seq)\n",
    "        pattern_cnt += 1\n",
    "        \n",
    "print(pattern_cnt)"
   ]
  },
  {
   "cell_type": "code",
   "execution_count": 32,
   "metadata": {},
   "outputs": [
    {
     "data": {
      "text/plain": [
       "['AAAAAAGTCGG',\n",
       " 'GGCCCCACCCC',\n",
       " 'CCCCACCCCCA',\n",
       " 'CCCCATCCGTC',\n",
       " 'GCCCCTTCCCG',\n",
       " 'TCCCGCGCTGA',\n",
       " 'GCAGTCGCTGC',\n",
       " 'AGTCGCTGCCT',\n",
       " 'TCGCTGCCTGC',\n",
       " 'TGCAACAAGGA']"
      ]
     },
     "execution_count": 32,
     "metadata": {},
     "output_type": "execute_result"
    }
   ],
   "source": [
    "patterns[:10]"
   ]
  },
  {
   "cell_type": "markdown",
   "metadata": {},
   "source": [
    "## Write all pattern sequences into a FASTA file"
   ]
  },
  {
   "cell_type": "code",
   "execution_count": 30,
   "metadata": {},
   "outputs": [],
   "source": [
    "seq_id = 1\n",
    "with open('JARVIS-CNN_pattern_seqs.fasta', 'w') as out_fh:\n",
    "    for seq in patterns:\n",
    "        out_fh.write('>seq_' + str(seq_id) + '\\n')\n",
    "        out_fh.write(seq + '\\n')\n",
    "        \n",
    "        seq_id += 1"
   ]
  },
  {
   "cell_type": "markdown",
   "metadata": {},
   "source": [
    "## Write all pattern sequences into a sequences-only text file"
   ]
  },
  {
   "cell_type": "code",
   "execution_count": 31,
   "metadata": {},
   "outputs": [],
   "source": [
    "with open('JARVIS-CNN_pattern_seqs.txt', 'w') as out_fh:\n",
    "    for seq in patterns:\n",
    "        out_fh.write(seq + '\\n')"
   ]
  },
  {
   "cell_type": "markdown",
   "metadata": {},
   "source": [
    "## TODO\n",
    "- Cluster pattern sequences with _cd-hit_\n",
    "- Within each cluster, produce WebLogo and get consensus sequence\n",
    "- Run all final consensus patterns against DeepBind\n",
    "- Calculate most prominent patterns (see \"Quantification of motif importance\" from DeepCpG paper)"
   ]
  },
  {
   "cell_type": "markdown",
   "metadata": {},
   "source": [
    "## Run cd-hit from the _cdhit_ conda env"
   ]
  },
  {
   "cell_type": "code",
   "execution_count": 40,
   "metadata": {},
   "outputs": [],
   "source": [
    "cd-hit-est -i JARVIS-CNN_pattern_seqs.fasta -o cdhit_seq_clusters.id80.W7.fa -c 0.8 -n 7"
   ]
  }
 ],
 "metadata": {
  "kernelspec": {
   "display_name": "Python 3",
   "language": "python",
   "name": "python3"
  },
  "language_info": {
   "codemirror_mode": {
    "name": "ipython",
    "version": 3
   },
   "file_extension": ".py",
   "mimetype": "text/x-python",
   "name": "python",
   "nbconvert_exporter": "python",
   "pygments_lexer": "ipython3",
   "version": "3.7.4"
  }
 },
 "nbformat": 4,
 "nbformat_minor": 4
}
